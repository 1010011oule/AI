{
  "cells": [
    {
      "cell_type": "code",
      "execution_count": null,
      "metadata": {
        "id": "ZJFbNjqKjjht"
      },
      "outputs": [],
      "source": [
        "import torch\n",
        "import torch.nn as nn\n",
        "from typing import List"
      ]
    },
    {
      "cell_type": "code",
      "execution_count": null,
      "metadata": {
        "colab": {
          "base_uri": "https://localhost:8080/"
        },
        "id": "ggMHzU2KtFu3",
        "outputId": "f89cc53a-0681-414f-dd37-2fcb59c36061"
      },
      "outputs": [
        {
          "output_type": "stream",
          "name": "stdout",
          "text": [
            "device_check: cuda\n"
          ]
        }
      ],
      "source": [
        "device=torch.device(\"cuda\" if torch.cuda.is_available() else \"cpu\")\n",
        "\n",
        "print('device_check:',device) # GPU 사용이 가능하면 cuda 출력 / 불가능하면 cpu 출력"
      ]
    },
    {
      "cell_type": "markdown",
      "metadata": {
        "id": "dVgFeSPP72P2"
      },
      "source": [
        "# ※ Section I. PyTorch 이용하여 MLP 구현하기"
      ]
    },
    {
      "cell_type": "markdown",
      "metadata": {
        "id": "6w0CR4zGpm_B"
      },
      "source": [
        "## One-Layer Perceptron 예제\n",
        "### PyTorch에서는 torch.nn.Linear를 이용하여 간단하게 perceptron을 구현할 수 있다.\n",
        "### torch.nn.Linear의 paramters\n",
        "* in_features: input data (2차원 행렬)에서 column의 개수\n",
        "* out_features: output data (2차원 행렬)에서 column의 개수\n",
        "\n",
        "### torch.nn.Linear의 input\n",
        "* input은 [batch_size, row, column] 사이즈를 가진 행렬 형태여야 한다. (row X column 행렬)\n",
        "* batch_size란 row X column 행렬이 독립적으로 몇 개 존재하는지 정도로 이해하도록 한다.\n",
        "* batch_size에 대해 더 궁금한 점은 검색해서 찾아보기\n",
        "\n",
        "### GPU 사용\n",
        "* model = model.to(device) 로 선언한 후\n",
        "* model의 input data 역시 input_data = input_data.to(device)로 선언해주어야 한다."
      ]
    },
    {
      "cell_type": "code",
      "execution_count": null,
      "metadata": {
        "colab": {
          "base_uri": "https://localhost:8080/"
        },
        "id": "8t2dPf0epSLV",
        "outputId": "911d225b-4462-4318-e2b5-ce8b28043154"
      },
      "outputs": [
        {
          "output_type": "stream",
          "name": "stdout",
          "text": [
            "output 사이즈: torch.Size([5, 12, 8])\n"
          ]
        }
      ],
      "source": [
        "# nn.Linear 예제\n",
        "\n",
        "one_layer = nn.Linear(3,8).to(device) # nn.Linear(in_features, out_features), 입력 텐서의 크기가 3이고, 출력 텐서의 크기가 8인 선형 변환을 수행하는 nn.Linear 모듈 생성\n",
        "input_data = torch.randn(5,12,3).to(device) # 12 X 3 행렬이 독립적으로 5개 있음을 의미함\n",
        "out = one_layer(input_data)\n",
        "print(f'output 사이즈: {out.size()}') # [5, 12, 8]"
      ]
    },
    {
      "cell_type": "markdown",
      "metadata": {
        "id": "_Di8VgkoznrO"
      },
      "source": [
        "## Two-Layer Perceptron 예제\n",
        "### nn.Sequential은 두 개의 레이어가 순차적으로 실행되게 하는 함수이다.\n",
        "* 아래 예제에서 input_data는 처음 perceptron nn.Linear(3,8)을 통과한 후 [5,12,8]의 사이즈를 가지게 된다.\n",
        "* 바로 다음 두번째 perceptron nn.Linear(8,16)을 통과한 후에는 [5,12,16]의 사이즈를 가지게 된다."
      ]
    },
    {
      "cell_type": "code",
      "execution_count": null,
      "metadata": {
        "colab": {
          "base_uri": "https://localhost:8080/"
        },
        "id": "lVKqcK6oznKA",
        "outputId": "35d937fe-c554-4bc9-86b8-bca433230196"
      },
      "outputs": [
        {
          "output_type": "stream",
          "name": "stdout",
          "text": [
            "output 사이즈: torch.Size([5, 12, 16])\n"
          ]
        }
      ],
      "source": [
        "# nn.Sequential 예제\n",
        "\n",
        "two_layer = nn.Sequential(nn.Linear(3,8),\n",
        "                          nn.Linear(8,16)).to(device)\n",
        "input_data = torch.randn(5,12,3).to(device) # 12 X 3 행렬이 독립적으로 5개 있음을 의미함\n",
        "out = two_layer(input_data)\n",
        "print(f'output 사이즈: {out.size()}') # [5, 12, 16]"
      ]
    },
    {
      "cell_type": "markdown",
      "metadata": {
        "id": "T8GRA24a3HBN"
      },
      "source": [
        "## Activation Function\n",
        "### activation function은 neural network의 layer를 통과한 후 output data 변형을 주는 함수이다.\n",
        "* 일반적으로 neural network의 layer는 linear이기 때문에 activation function로는 non-linear 함수를 많이 사용한다.\n",
        "* 이를 통해 neural network가 단일 linear function으로 귀결되는 것을 방지하고, 결과적으로 성능향상을 이끌 수 있다.\n",
        "\n",
        "### 대표적인 activation function (nn 모듈을 이용하여 사용가능)\n",
        "* Sigmoid (시그모이드)\n",
        "* ReLU (렐루)\n",
        "* tanh (하이퍼볼릭 탄제트)\n",
        "* 각 함수의 수식은 각자 검색하기"
      ]
    },
    {
      "cell_type": "code",
      "execution_count": null,
      "metadata": {
        "colab": {
          "base_uri": "https://localhost:8080/"
        },
        "id": "8m3OmtGY3HRz",
        "outputId": "adc58c10-31b9-4cb6-ca19-51326e1b2a2c"
      },
      "outputs": [
        {
          "output_type": "stream",
          "name": "stdout",
          "text": [
            "인풋데이터 확인\n",
            "tensor([[[ 0.3607, -0.2859, -0.3938],\n",
            "         [ 0.2429, -1.3833, -2.3134],\n",
            "         [-0.3172, -0.8660,  1.7482],\n",
            "         [-0.2759, -0.9755,  0.4790],\n",
            "         [-2.3652, -0.8047,  0.6587]]])\n",
            "시그모이드 아웃풋\n",
            "tensor([[[0.5892, 0.4290, 0.4028],\n",
            "         [0.5604, 0.2005, 0.0900],\n",
            "         [0.4214, 0.2961, 0.8517],\n",
            "         [0.4315, 0.2738, 0.6175],\n",
            "         [0.0859, 0.3090, 0.6590]]])\n",
            "렐루 아웃풋\n",
            "tensor([[[0.3607, 0.0000, 0.0000],\n",
            "         [0.2429, 0.0000, 0.0000],\n",
            "         [0.0000, 0.0000, 1.7482],\n",
            "         [0.0000, 0.0000, 0.4790],\n",
            "         [0.0000, 0.0000, 0.6587]]])\n",
            "하이퍼볼릭 탄젠트 아웃풋\n",
            "tensor([[[ 0.3458, -0.2784, -0.3746],\n",
            "         [ 0.2383, -0.8817, -0.9806],\n",
            "         [-0.3070, -0.6994,  0.9412],\n",
            "         [-0.2691, -0.7511,  0.4454],\n",
            "         [-0.9825, -0.6666,  0.5775]]])\n"
          ]
        }
      ],
      "source": [
        "# activation function 예제\n",
        "sigmoid = nn.Sigmoid()\n",
        "relu = nn.ReLU()\n",
        "tanh = nn.Tanh()\n",
        "\n",
        "torch.random.manual_seed(100) # 랜덤시드 고정\n",
        "input_data = torch.randn(1,5,3)\n",
        "\n",
        "print('인풋데이터 확인')\n",
        "print(input_data)\n",
        "\n",
        "sigmoid_output = sigmoid(input_data)\n",
        "relu_output = relu(input_data)\n",
        "tanh_output = tanh(input_data)\n",
        "\n",
        "print('시그모이드 아웃풋')\n",
        "print(sigmoid_output)\n",
        "\n",
        "print('렐루 아웃풋')\n",
        "print(relu_output)\n",
        "\n",
        "print('하이퍼볼릭 탄젠트 아웃풋')\n",
        "print(tanh_output)"
      ]
    },
    {
      "cell_type": "code",
      "execution_count": null,
      "metadata": {
        "colab": {
          "base_uri": "https://localhost:8080/"
        },
        "id": "_hOb4jne8I5d",
        "outputId": "48aa0a0b-52a2-4b15-bfb3-721144e80e2c"
      },
      "outputs": [
        {
          "output_type": "stream",
          "name": "stdout",
          "text": [
            "output 사이즈: torch.Size([5, 12, 16])\n"
          ]
        }
      ],
      "source": [
        "# nn.Linear + nn.Sequential + activation function 종합 예제\n",
        "my_model = nn.Sequential(nn.Linear(3,8),\n",
        "                         nn.Sigmoid(),\n",
        "                         nn.Linear(8,16),\n",
        "                         nn.ReLU()).to(device)\n",
        "input_data = torch.randn(5,12,3).to(device)\n",
        "out = my_model(input_data)\n",
        "print(f'output 사이즈: {out.size()}') # [5, 12, 16]"
      ]
    },
    {
      "cell_type": "markdown",
      "metadata": {
        "id": "n8sI-sQC0mJC"
      },
      "source": [
        "## ★ 문제1\n",
        "### nn.Linear와 nn.Sequential을 사용하여 Five-Layer Perceptron을 구현하시오.\n",
        "#### 조건\n",
        "* input data 행렬의 row는 12, column은 3이다.\n",
        "* output 행렬의 column은 7이다.\n",
        "* 각 중간 layer의 out_features는 다음 순서를 따른다: [12,14,15,10,7]\n",
        "* activation function은 추가하지 않는다.\n",
        "* five_layer 모델은 GPU에서 실행되게 선언해야 한다."
      ]
    },
    {
      "cell_type": "code",
      "execution_count": null,
      "metadata": {
        "id": "5N0rbCni0LWT",
        "colab": {
          "base_uri": "https://localhost:8080/"
        },
        "outputId": "efd3d5dc-1622-4f2e-b267-24e026122c04"
      },
      "outputs": [
        {
          "output_type": "stream",
          "name": "stdout",
          "text": [
            "output 사이즈: torch.Size([5, 12, 7])\n"
          ]
        }
      ],
      "source": [
        "import torch\n",
        "import torch.nn as nn\n",
        "\n",
        "# TODO: Five-Layer Perceptron 모델 정의\n",
        "class FiveLayerPerceptron(nn.Module):\n",
        "    def __init__(self):\n",
        "        super(FiveLayerPerceptron, self).__init__()\n",
        "        self.layers = nn.Sequential(\n",
        "            nn.Linear(3, 12),\n",
        "            nn.Linear(12, 14),\n",
        "            nn.Linear(14, 15),\n",
        "            nn.Linear(15, 10),\n",
        "            nn.Linear(10, 7)\n",
        "        )\n",
        "\n",
        "    def forward(self, x):\n",
        "        # 입력 데이터를 각 레이어에 전달\n",
        "        return self.layers(x)\n",
        "\n",
        "# TODO: GPU 사용을 위한 설정\n",
        "device = torch.device(\"cuda\" if torch.cuda.is_available() else \"cpu\")\n",
        "\n",
        "# TODO: Five-Layer Perceptron 모델 생성 및 GPU로 이동\n",
        "five_layer = FiveLayerPerceptron().to(device)\n",
        "\n",
        "# TODO: input_data 정의\n",
        "input_data = torch.randn(5, 12, 3).to(device)\n",
        "\n",
        "# TODO: 모델에 입력 데이터 전달하여 출력 계산\n",
        "out = five_layer(input_data)\n",
        "\n",
        "# 출력 크기 출력\n",
        "print(f'output 사이즈: {out.size()}')  # [5, 12, 7]이 출력되어야 한다.\n"
      ]
    },
    {
      "cell_type": "markdown",
      "metadata": {
        "id": "a4qRlNaqKIsM"
      },
      "source": [
        "##  ★ 문제2\n",
        "### nn.Linear, nn.Sequential, activation function을 사용하여 Ten-Layer Perceptron을 구현하시오.\n",
        "\n",
        "#### 조건\n",
        "* activation은 Sigmoid, ReLU, tanh 중 하나를 사용한다.\n",
        "* input data 행렬의 row는 12, column은 3이다.\n",
        "* output 행렬의 column은 아래 조건을 참고하여 알맞게 나오도록 한다.\n",
        "* 각 중간 layer의 out_features는 초항이 5, 공차가 2인 등차수열을 따른다. (즉, [5,7,9,...])\n",
        "* ten_layer 모델은 GPU에서 실행되게 선언해야 한다."
      ]
    },
    {
      "cell_type": "code",
      "execution_count": null,
      "metadata": {
        "id": "4RFDC0nqKIUn",
        "colab": {
          "base_uri": "https://localhost:8080/"
        },
        "outputId": "727478e3-8589-4586-abcc-0b84798cc77d"
      },
      "outputs": [
        {
          "output_type": "stream",
          "name": "stdout",
          "text": [
            "output 사이즈: torch.Size([5, 12, 19])\n"
          ]
        }
      ],
      "source": [
        "import torch\n",
        "import torch.nn as nn\n",
        "\n",
        "# GPU 사용을 위한 설정\n",
        "device = torch.device(\"cuda\" if torch.cuda.is_available() else \"cpu\")\n",
        "\n",
        "# Ten-Layer Perceptron 모델 정의\n",
        "class TenLayerPerceptron(nn.Module):\n",
        "    def __init__(self, activation_fn):\n",
        "        super(TenLayerPerceptron, self).__init__()\n",
        "        layers = []\n",
        "        in_features = 3\n",
        "        for out_features in range(5, 21, 2):  # 초항이 5, 공차가 2인 등차수열\n",
        "            layers.append(nn.Linear(in_features, out_features))\n",
        "            layers.append(activation_fn())\n",
        "            in_features = out_features\n",
        "\n",
        "        # 마지막 레이어 (출력 레이어)는 activation이 적용되지 않음\n",
        "        layers.pop()  # 마지막 activation 제거\n",
        "        self.layers = nn.Sequential(*layers)\n",
        "\n",
        "    def forward(self, x):\n",
        "        # 입력 데이터를 각 레이어에 전달\n",
        "        return self.layers(x)\n",
        "\n",
        "# TODO: activation 함수 선택 (Sigmoid, ReLU, tanh 중 하나)\n",
        "activation_fn = nn.Sigmoid  # 예시로 Sigmoid 선택\n",
        "\n",
        "# Ten-Layer Perceptron 모델 생성 및 GPU로 이동\n",
        "ten_layer = TenLayerPerceptron(activation_fn).to(device)\n",
        "\n",
        "# TODO: input_data 정의\n",
        "input_data = torch.randn(5, 12, 3).to(device)\n",
        "\n",
        "# TODO: 모델에 입력 데이터 전달하여 출력 계산\n",
        "out = ten_layer(input_data)\n",
        "\n",
        "# 출력 크기 출력\n",
        "print(f'output 사이즈: {out.size()}')  # 위 조건에 알맞은 사이즈가 출력되어야 한다.\n"
      ]
    },
    {
      "cell_type": "markdown",
      "metadata": {
        "id": "jzIiF9VudYEP"
      },
      "source": [
        "## nn.Module 클래스 사용\n",
        "### PyTorch의 장점은 nn.Moudule 클래스를 상속 받아서 사용자가 원하는 neural network를 구성할 수 있다는 점이다.\n",
        "\n",
        "### class 함수 설명\n",
        "* \\_\\_init\\_\\_: 클래스의 인스턴스를 생성할 때 가장 먼저 수행되는 부분. neural network에서 사용할 layer 또는 activation function 등을 정의한다.\n",
        "* forward: 실제로 neural network의 작동을 제어하는 함수. input data를 받은 후 neural network의 각 layer별 실행 순서를 정하고, 최종 output을 return한다."
      ]
    },
    {
      "cell_type": "code",
      "execution_count": null,
      "metadata": {
        "colab": {
          "base_uri": "https://localhost:8080/"
        },
        "id": "9ynaMgPGaLfT",
        "outputId": "d795ece3-8c94-4bb3-fd7a-c97b9b3c0d1e"
      },
      "outputs": [
        {
          "output_type": "stream",
          "name": "stdout",
          "text": [
            "output 사이즈: torch.Size([5, 12, 20])\n"
          ]
        }
      ],
      "source": [
        "import torch\n",
        "import torch.nn as nn\n",
        "\n",
        "# Define a custom MLP (Multi-Layer Perceptron) using nn.Module\n",
        "class MyMLP(nn.Module):\n",
        "\n",
        "    def __init__(self):\n",
        "        super(MyMLP, self).__init__()\n",
        "\n",
        "        # Define layers (Linear -> Sigmoid -> Linear -> ReLU)\n",
        "        layers = [\n",
        "            nn.Linear(3, 8),\n",
        "            nn.Sigmoid(),\n",
        "            nn.Linear(8, 20),\n",
        "            nn.ReLU()\n",
        "        ]\n",
        "\n",
        "        # Create a Sequential container to organize the layers\n",
        "        self.mlp = nn.Sequential(*layers)\n",
        "\n",
        "    def forward(self, x):\n",
        "        # Forward pass through the defined layers\n",
        "        x = self.mlp(x)\n",
        "        return x\n",
        "\n",
        "# Instantiate the custom MLP model and move it to the specified device (GPU or CPU)\n",
        "my_model = MyMLP().to(device)\n",
        "\n",
        "# Generate random input data and move it to the specified device\n",
        "input_data = torch.randn(5, 12, 3).to(device)\n",
        "\n",
        "# Forward pass through the model\n",
        "out = my_model(input_data)\n",
        "\n",
        "# Print the size of the output\n",
        "print(f'output 사이즈: {out.size()}')\n"
      ]
    },
    {
      "cell_type": "markdown",
      "metadata": {
        "id": "rQZTbtZqe3ai"
      },
      "source": [
        "## ★ 문제3\n",
        "### 아래 조건에 맞게 nn.Module을 상속받는 클래스를 정의하시오.\n",
        "\n",
        "#### 조건\n",
        "* MLP (Multi-Layer Perceptron)의 layer는 nn.Linear만 사용한다.\n",
        "* \\_\\_init\\_\\_ 함수의 parameter 중 num_layers는 MLP의 layer의 개수를 의미한다.\n",
        "* \\_\\_init\\_\\_ 함수의 parameter 중 out_feat_list는 순서대로 MLP의 layer들의 out_features를 원소로 가지고 있다. out_feat_list의 길이는 num_layers와 항상 동일해야만 한다. (assert문 참고)\n",
        "* \\_\\_init\\_\\_ 함수의 parameter 중 act는 activation function을 의미한다. MLP의 모든 layer 뒤에는 항상 해당 activation function이 위치해야 한다. 문자열(string)으로 입력되며 'sigmoid', 'relu', 'tanh'만  입력되도록 한다. (assert문 참고)\n",
        "* input_data 행렬의 column은 1024로 가정한다. (Hint: 이는 MLP의 첫번째 nn.LInear layer의 input_features과 동일하다.)\n",
        "* 입력 및 모델 구조 출력 예시를 참고한다."
      ]
    },
    {
      "cell_type": "code",
      "execution_count": null,
      "metadata": {
        "id": "r-0TP5iye3rR",
        "colab": {
          "base_uri": "https://localhost:8080/"
        },
        "outputId": "25e15aaf-795a-45c3-e717-acaf012985fe"
      },
      "outputs": [
        {
          "output_type": "stream",
          "name": "stdout",
          "text": [
            "CustomMLP(\n",
            "  (mlp): Sequential(\n",
            "    (0): Linear(in_features=1024, out_features=6, bias=True)\n",
            "    (1): Linear(in_features=6, out_features=8, bias=True)\n",
            "    (2): Sigmoid()\n",
            "    (3): Linear(in_features=8, out_features=3, bias=True)\n",
            "    (4): Sigmoid()\n",
            "    (5): Linear(in_features=3, out_features=4, bias=True)\n",
            "    (6): Sigmoid()\n",
            "    (7): Linear(in_features=4, out_features=9, bias=True)\n",
            "    (8): Sigmoid()\n",
            "    (9): Linear(in_features=9, out_features=10, bias=True)\n",
            "    (10): Sigmoid()\n",
            "    (11): Linear(in_features=10, out_features=2, bias=True)\n",
            "    (12): Sigmoid()\n",
            "    (13): Linear(in_features=2, out_features=4, bias=True)\n",
            "    (14): Sigmoid()\n",
            "  )\n",
            ")\n",
            "CustomMLP(\n",
            "  (mlp): Sequential(\n",
            "    (0): Linear(in_features=1024, out_features=5, bias=True)\n",
            "    (1): Linear(in_features=5, out_features=8, bias=True)\n",
            "    (2): ReLU()\n",
            "    (3): Linear(in_features=8, out_features=13, bias=True)\n",
            "    (4): ReLU()\n",
            "    (5): Linear(in_features=13, out_features=6, bias=True)\n",
            "    (6): ReLU()\n",
            "    (7): Linear(in_features=6, out_features=4, bias=True)\n",
            "    (8): ReLU()\n",
            "    (9): Linear(in_features=4, out_features=9, bias=True)\n",
            "    (10): ReLU()\n",
            "    (11): Linear(in_features=9, out_features=9, bias=True)\n",
            "    (12): ReLU()\n",
            "    (13): Linear(in_features=9, out_features=2, bias=True)\n",
            "    (14): ReLU()\n",
            "    (15): Linear(in_features=2, out_features=6, bias=True)\n",
            "    (16): ReLU()\n",
            "    (17): Linear(in_features=6, out_features=3, bias=True)\n",
            "    (18): ReLU()\n",
            "    (19): Linear(in_features=3, out_features=9, bias=True)\n",
            "    (20): ReLU()\n",
            "    (21): Linear(in_features=9, out_features=10, bias=True)\n",
            "    (22): ReLU()\n",
            "  )\n",
            ")\n"
          ]
        }
      ],
      "source": [
        "import torch.nn as nn\n",
        "from typing import List\n",
        "\n",
        "class CustomMLP(nn.Module):\n",
        "    def __init__(self, num_layers: int, out_feat_list: List[int], act: str):\n",
        "        assert len(out_feat_list) == num_layers, 'out_feat_list size should be equal to num_layers'\n",
        "        super(CustomMLP, self).__init__()\n",
        "        activation = self.select_act(act)\n",
        "        layers = list()\n",
        "\n",
        "        # 첫 번째 Linear layer 추가\n",
        "        layers.append(nn.Linear(in_features=1024, out_features=out_feat_list[0], bias=True))\n",
        "\n",
        "        # 나머지 Linear layer와 activation 추가\n",
        "        for i in range(1, num_layers):\n",
        "            layers.append(nn.Linear(in_features=out_feat_list[i-1], out_features=out_feat_list[i], bias=True))\n",
        "            layers.append(activation)\n",
        "\n",
        "        self.mlp = nn.Sequential(*layers)\n",
        "\n",
        "    def forward(self, x):\n",
        "        x = self.mlp(x)\n",
        "        return x\n",
        "\n",
        "    def select_act(self, act: str):\n",
        "        assert act in ['sigmoid', 'relu', 'tanh'], 'activation should be in [sigmoid, relu, tanh]'\n",
        "        if act == 'sigmoid':\n",
        "            return nn.Sigmoid()\n",
        "        elif act == 'relu':\n",
        "            return nn.ReLU()\n",
        "        else:\n",
        "            return nn.Tanh()\n",
        "\n",
        "# 예시 사용\n",
        "model_sigmoid = CustomMLP(num_layers=8, out_feat_list=[6, 8, 3, 4, 9, 10, 2, 4], act='sigmoid')\n",
        "print(model_sigmoid)\n",
        "\n",
        "model_relu = CustomMLP(num_layers=12, out_feat_list=[5, 8, 13, 6, 4, 9, 9, 2, 6, 3, 9, 10], act='relu')\n",
        "print(model_relu)\n",
        "\n"
      ]
    },
    {
      "cell_type": "markdown",
      "metadata": {
        "id": "qEM9XM-c7yL5"
      },
      "source": [
        "---\n",
        "# ※ Section II. MLP를 이용한 이미지 분류 예측 모델 학습"
      ]
    },
    {
      "cell_type": "markdown",
      "metadata": {
        "id": "cKYBqeAHOcPb"
      },
      "source": [
        "## CIFAR10 데이터\n",
        "* train: 50,000장\n",
        "* test: 10,000장\n",
        "* label: 10개 (airplane, automobile, bird, cat, deer, dog, frog, horse, ship, truck)"
      ]
    },
    {
      "cell_type": "code",
      "execution_count": null,
      "metadata": {
        "colab": {
          "base_uri": "https://localhost:8080/"
        },
        "id": "EPGIRI5kPMeE",
        "outputId": "2d260c6d-4b81-4403-8f1e-ae1f5786b6c2"
      },
      "outputs": [
        {
          "output_type": "stream",
          "name": "stdout",
          "text": [
            "Mounted at /gdrive\n"
          ]
        }
      ],
      "source": [
        "# 구글 드라이브 사용 희망 시 아래 코드 주석 해제하고 실행\n",
        "from google.colab import drive\n",
        "drive.mount('/gdrive',force_remount=True)"
      ]
    },
    {
      "cell_type": "code",
      "execution_count": null,
      "metadata": {
        "id": "dZg9cAfWPGWG"
      },
      "outputs": [],
      "source": [
        "from torchvision import datasets\n",
        "from torchvision.transforms import functional as TF\n",
        "import matplotlib.pyplot as plt\n",
        "from torch.utils.data import Dataset, DataLoader"
      ]
    },
    {
      "cell_type": "markdown",
      "metadata": {
        "id": "ygQxBQkLnNCt"
      },
      "source": [
        "## 데이터 저장\n",
        "### 코랩 임시 저장소 또는 구글 드라이브에 데이터 저장\n",
        "* 둘 중 원하는 방법 선택하여 실행\n",
        "* 참고: 데이터 사이즈 약 350MB\n",
        "\n",
        "\n"
      ]
    },
    {
      "cell_type": "code",
      "execution_count": null,
      "metadata": {
        "colab": {
          "base_uri": "https://localhost:8080/"
        },
        "id": "L3pJ-j4Slj5O",
        "outputId": "2ef8e794-6289-4a8f-87cd-f835230069ba"
      },
      "outputs": [
        {
          "output_type": "stream",
          "name": "stdout",
          "text": [
            "Downloading https://www.cs.toronto.edu/~kriz/cifar-10-python.tar.gz to /content/drive/MyDrive/data/cifar-10-python.tar.gz\n"
          ]
        },
        {
          "output_type": "stream",
          "name": "stderr",
          "text": [
            "100%|██████████| 170498071/170498071 [00:05<00:00, 29057285.29it/s]\n"
          ]
        },
        {
          "output_type": "stream",
          "name": "stdout",
          "text": [
            "Extracting /content/drive/MyDrive/data/cifar-10-python.tar.gz to /content/drive/MyDrive/data\n",
            "Files already downloaded and verified\n"
          ]
        }
      ],
      "source": [
        "# 임시 저장소에 저장 / 코랩 런타임 끊길 경우 초기화\n",
        "# traindata = datasets.CIFAR10(root = './data', train = True, download = True)\n",
        "# testdata = datasets.CIFAR10(root = './data', train = False, download = True)\n",
        "\n",
        "# 구글 드라이브에 저장 / 코랩 런타임 끊기더라도 초기화 되지 않음\n",
        "trainset = datasets.CIFAR10(root = '/content/drive/MyDrive/data', train = True, download = True)\n",
        "testset = datasets.CIFAR10(root = '/content/drive/MyDrive/data', train = False, download = True)"
      ]
    },
    {
      "cell_type": "markdown",
      "metadata": {
        "id": "mIno48Ofnp6P"
      },
      "source": [
        "## 데이터 상세정보 확인"
      ]
    },
    {
      "cell_type": "code",
      "execution_count": null,
      "metadata": {
        "colab": {
          "base_uri": "https://localhost:8080/"
        },
        "id": "xi1mezKinpYU",
        "outputId": "d749c21a-f012-43ac-bf94-1c1059a1edfa"
      },
      "outputs": [
        {
          "output_type": "stream",
          "name": "stdout",
          "text": [
            "50000 10000\n"
          ]
        }
      ],
      "source": [
        "# data 사이즈 확인\n",
        "print(len(trainset), len(testset))"
      ]
    },
    {
      "cell_type": "code",
      "execution_count": null,
      "metadata": {
        "colab": {
          "base_uri": "https://localhost:8080/",
          "height": 467
        },
        "id": "s_MqoHXymhNC",
        "outputId": "bd423c6f-a0c0-4af2-a82d-4a444b1309ae"
      },
      "outputs": [
        {
          "output_type": "display_data",
          "data": {
            "text/plain": [
              "<Figure size 640x480 with 1 Axes>"
            ],
            "image/png": "[encoded data removed]"
          },
          "metadata": {}
        },
        {
          "output_type": "stream",
          "name": "stdout",
          "text": [
            "image type: <class 'PIL.Image.Image'>\n",
            "label: 6\n"
          ]
        }
      ],
      "source": [
        "# Train data 이미지 및 레이블 확인\n",
        "image, label = trainset[0]\n",
        "plt.imshow(image)\n",
        "plt.show()\n",
        "\n",
        "print(f'image type: {type(image)}')\n",
        "print(f'label: {label}')"
      ]
    },
    {
      "cell_type": "markdown",
      "metadata": {
        "id": "m14SHtCgoZNK"
      },
      "source": [
        "## 입력 자료구조 변환\n",
        "* PyTorch에서 neural network에 대한 모든 입력은 PyTorch에서 정의한 Tensor라는 자료구조를 사용해야 함\n",
        "* 위 셀에서 image type은 <class 'PIL.Image.Image'>이므로 변형 필요\n",
        "* TF.to_tensor 함수 사용"
      ]
    },
    {
      "cell_type": "code",
      "execution_count": null,
      "metadata": {
        "colab": {
          "base_uri": "https://localhost:8080/"
        },
        "id": "V4c3GRYonn0J",
        "outputId": "5a534369-2761-47b7-8654-f080ee957e4c"
      },
      "outputs": [
        {
          "output_type": "stream",
          "name": "stdout",
          "text": [
            "image type: <class 'torch.Tensor'>\n",
            "image size: torch.Size([3, 32, 32])\n"
          ]
        }
      ],
      "source": [
        "# PIL.Image.Image -> torch.Tensor로 변경\n",
        "image = TF.to_tensor(image)\n",
        "print(f'image type: {type(image)}')\n",
        "print(f'image size: {image.size()}') # 3채널(R,G,B), 32(height,세로), 32(width,가로)"
      ]
    },
    {
      "cell_type": "markdown",
      "metadata": {
        "id": "Jz9bFyyU5K3y"
      },
      "source": [
        "## pre-processing\n",
        "* 이미지 데이터에 Multi-Layer Perceptron (MLP) 적용하기 위한 pre-processing\n",
        "* (review) nn.Linear의 인풋 데이터는 2차원 행렬 형태를 가져야 한다.\n",
        "* 하지만 CIFAR10과 같은 이미지 데이터의 경우 height, width 외에 channel이라는 차원을 가지고 있다. (즉 3차원 데이터)\n",
        "* 따라서 이러한 형태를 2차원 형태로 변환해주는 flattening 과정이 필요하다. (flatten 메소드 사용)"
      ]
    },
    {
      "cell_type": "code",
      "execution_count": null,
      "metadata": {
        "colab": {
          "base_uri": "https://localhost:8080/"
        },
        "id": "aTe99wwnP_pC",
        "outputId": "2c8168c0-f15c-4ba7-9fe4-26ed80028ae8"
      },
      "outputs": [
        {
          "output_type": "stream",
          "name": "stdout",
          "text": [
            "image size 확인: torch.Size([3, 32, 32])\n",
            "flattened image size 확인: torch.Size([3, 1024])\n"
          ]
        }
      ],
      "source": [
        "# flatten, permute\n",
        "image, label = trainset[1214] # train data 1개 load\n",
        "image = TF.to_tensor(image)\n",
        "print(f'image size 확인: {image.size()}')\n",
        "image_flat = image.flatten(start_dim=1, end_dim=2) # start_dim과 end_dim는 flatten를 수행할 때 시작 차원과 끝 차원을 지정. 여기서 start_dim=1, end_dim=2는 두 번째 차원부터 세 번째 차원까지 평탄화됨을 나타냄.\n",
        "print(f'flattened image size 확인: {image_flat.size()}')"
      ]
    },
    {
      "cell_type": "markdown",
      "metadata": {
        "id": "7u6Gm_2V4nku"
      },
      "source": [
        "* Dataset 클래스를 새롭게 정의하여 CIFAR10 데이터셋에서 이미지를 불러올 때마다 flatten과 permute를 자동으로 수행하게 한다. 아래와 같이 선언 (코드 수정할 필요 없음)"
      ]
    },
    {
      "cell_type": "code",
      "execution_count": null,
      "metadata": {
        "colab": {
          "base_uri": "https://localhost:8080/"
        },
        "id": "t7MyKuhO3GXD",
        "outputId": "9df731a7-6947-4e89-9b0b-f023d43ad8eb"
      },
      "outputs": [
        {
          "output_type": "stream",
          "name": "stdout",
          "text": [
            "image size 확인: torch.Size([3, 1024])\n"
          ]
        }
      ],
      "source": [
        "class Cifar10Dataset(Dataset):\n",
        "  def __init__(self, dataset, train=True):\n",
        "    super(Cifar10Dataset, self).__init__()\n",
        "    self.dataset = dataset\n",
        "    self.train = train\n",
        "\n",
        "  def __len__(self):\n",
        "    return len(self.dataset)\n",
        "\n",
        "  def __getitem__(self, index):\n",
        "    image, label = self.dataset[index]\n",
        "    image = TF.to_tensor(image)\n",
        "    image = image.flatten(start_dim=1, end_dim=2)\n",
        "    # image = image.permute(1,0)\n",
        "    return image, label\n",
        "\n",
        "train_data = Cifar10Dataset(trainset, train=True)\n",
        "test_data = Cifar10Dataset(testset, train=False)\n",
        "\n",
        "image, label = train_data[1234]\n",
        "print(f'image size 확인: {image.size()}')"
      ]
    },
    {
      "cell_type": "markdown",
      "metadata": {
        "id": "YAGM9L5S45Ou"
      },
      "source": [
        "## DataLoader\n",
        "\n",
        "* 위처럼 정의된 Dataset에서 데이터를 한 번에 batch_size만큼 불러올 수 있는 기능\n",
        "* 아래와 같이 선언 (코드 수정할 필요 없음)"
      ]
    },
    {
      "cell_type": "code",
      "execution_count": null,
      "metadata": {
        "colab": {
          "base_uri": "https://localhost:8080/"
        },
        "id": "ROhJ2RSTZIUN",
        "outputId": "3d2e990f-59c7-4761-f8fb-e9789cf79b79"
      },
      "outputs": [
        {
          "output_type": "stream",
          "name": "stdout",
          "text": [
            "image size 확인: torch.Size([128, 3, 1024])\n",
            "label size 확인: torch.Size([128])\n"
          ]
        }
      ],
      "source": [
        "# DataLoader 사용\n",
        "train_loader = DataLoader(train_data, batch_size=128, shuffle=False, pin_memory=True)\n",
        "test_loader = DataLoader(test_data, batch_size=128, shuffle=False, pin_memory=True)\n",
        "\n",
        "image, label = next(iter(train_loader)) #  첫 번째 미니배치를 가져옴\n",
        "print(f'image size 확인: {image.size()}') # [128, 3, 1024] == [batch_size, channel(RGB), height*width]\n",
        "print(f'label size 확인: {label.size()}') # [128] == [batch_size]"
      ]
    },
    {
      "cell_type": "markdown",
      "metadata": {
        "id": "NfKFs8Rb7qCc"
      },
      "source": [
        "## 모델 학습을 위한 model, optimizer, loss function 정의\n",
        "* 학습 후 테스트 진행\n"
      ]
    },
    {
      "cell_type": "code",
      "execution_count": null,
      "metadata": {
        "id": "Gc37nVwc22hk"
      },
      "outputs": [],
      "source": [
        "# model, optimizer, loss function 정의 예시\n",
        "torch.random.manual_seed(100)\n",
        "model = CustomMLP(num_layers=5, out_feat_list=[1024,256,64,16,10], act='relu').to(device) # 문제3에서 생성한 CustomMLP 사용\n",
        "optimizer = torch.optim.Adam(model.parameters(), lr=0.001) # Adam optimizer. lr: learning rate\n",
        "                                                           # model.parameters()는 모델의 학습 가능한 모든 매개변수들을 전달하는 역할\n",
        "                                                           # learning rate는 가중치 업데이트 단계에서 사용\n",
        "criterion = nn.CrossEntropyLoss() # loss function\n",
        "                                  # 크로스 엔트로피 손실 함수: 다중 클래스 분류(multi-class classification) 문제에 사용"
      ]
    },
    {
      "cell_type": "code",
      "execution_count": null,
      "metadata": {
        "colab": {
          "base_uri": "https://localhost:8080/"
        },
        "id": "FX3jQVIT91Ha",
        "outputId": "8d815681-3559-4476-9db1-f08f81aa83df"
      },
      "outputs": [
        {
          "output_type": "stream",
          "name": "stderr",
          "text": [
            "100%|██████████| 391/391 [00:09<00:00, 40.28it/s]\n"
          ]
        },
        {
          "output_type": "stream",
          "name": "stdout",
          "text": [
            "1 average loss: 2.140677\n",
            "1 average accuracy: 22.42%\n"
          ]
        },
        {
          "output_type": "stream",
          "name": "stderr",
          "text": [
            "100%|██████████| 391/391 [00:07<00:00, 50.41it/s]\n"
          ]
        },
        {
          "output_type": "stream",
          "name": "stdout",
          "text": [
            "2 average loss: 1.956901\n",
            "2 average accuracy: 30.26%\n"
          ]
        },
        {
          "output_type": "stream",
          "name": "stderr",
          "text": [
            "100%|██████████| 391/391 [00:09<00:00, 42.78it/s]\n"
          ]
        },
        {
          "output_type": "stream",
          "name": "stdout",
          "text": [
            "3 average loss: 1.870011\n",
            "3 average accuracy: 33.49%\n"
          ]
        },
        {
          "output_type": "stream",
          "name": "stderr",
          "text": [
            "100%|██████████| 391/391 [00:09<00:00, 39.44it/s]\n"
          ]
        },
        {
          "output_type": "stream",
          "name": "stdout",
          "text": [
            "4 average loss: 1.811636\n",
            "4 average accuracy: 35.45%\n"
          ]
        },
        {
          "output_type": "stream",
          "name": "stderr",
          "text": [
            "100%|██████████| 391/391 [00:08<00:00, 48.51it/s]\n"
          ]
        },
        {
          "output_type": "stream",
          "name": "stdout",
          "text": [
            "5 average loss: 1.771944\n",
            "5 average accuracy: 36.87%\n"
          ]
        },
        {
          "output_type": "stream",
          "name": "stderr",
          "text": [
            "100%|██████████| 391/391 [00:08<00:00, 43.53it/s]\n"
          ]
        },
        {
          "output_type": "stream",
          "name": "stdout",
          "text": [
            "6 average loss: 1.739366\n",
            "6 average accuracy: 37.89%\n"
          ]
        },
        {
          "output_type": "stream",
          "name": "stderr",
          "text": [
            "100%|██████████| 391/391 [00:07<00:00, 51.02it/s]\n"
          ]
        },
        {
          "output_type": "stream",
          "name": "stdout",
          "text": [
            "7 average loss: 1.715084\n",
            "7 average accuracy: 38.79%\n"
          ]
        },
        {
          "output_type": "stream",
          "name": "stderr",
          "text": [
            "100%|██████████| 391/391 [00:09<00:00, 42.92it/s]\n"
          ]
        },
        {
          "output_type": "stream",
          "name": "stdout",
          "text": [
            "8 average loss: 1.690914\n",
            "8 average accuracy: 39.84%\n"
          ]
        },
        {
          "output_type": "stream",
          "name": "stderr",
          "text": [
            "100%|██████████| 391/391 [00:08<00:00, 47.19it/s]\n"
          ]
        },
        {
          "output_type": "stream",
          "name": "stdout",
          "text": [
            "9 average loss: 1.670557\n",
            "9 average accuracy: 40.56%\n"
          ]
        },
        {
          "output_type": "stream",
          "name": "stderr",
          "text": [
            "100%|██████████| 391/391 [00:08<00:00, 46.03it/s]\n"
          ]
        },
        {
          "output_type": "stream",
          "name": "stdout",
          "text": [
            "10 average loss: 1.649129\n",
            "10 average accuracy: 41.52%\n"
          ]
        },
        {
          "output_type": "stream",
          "name": "stderr",
          "text": [
            "100%|██████████| 391/391 [00:09<00:00, 42.93it/s]\n"
          ]
        },
        {
          "output_type": "stream",
          "name": "stdout",
          "text": [
            "11 average loss: 1.626974\n",
            "11 average accuracy: 42.36%\n"
          ]
        },
        {
          "output_type": "stream",
          "name": "stderr",
          "text": [
            "100%|██████████| 391/391 [00:07<00:00, 50.68it/s]\n"
          ]
        },
        {
          "output_type": "stream",
          "name": "stdout",
          "text": [
            "12 average loss: 1.607972\n",
            "12 average accuracy: 43.02%\n"
          ]
        },
        {
          "output_type": "stream",
          "name": "stderr",
          "text": [
            "100%|██████████| 391/391 [00:09<00:00, 43.24it/s]\n"
          ]
        },
        {
          "output_type": "stream",
          "name": "stdout",
          "text": [
            "13 average loss: 1.593285\n",
            "13 average accuracy: 43.32%\n"
          ]
        },
        {
          "output_type": "stream",
          "name": "stderr",
          "text": [
            "100%|██████████| 391/391 [00:07<00:00, 49.24it/s]\n"
          ]
        },
        {
          "output_type": "stream",
          "name": "stdout",
          "text": [
            "14 average loss: 1.583876\n",
            "14 average accuracy: 43.81%\n"
          ]
        },
        {
          "output_type": "stream",
          "name": "stderr",
          "text": [
            "100%|██████████| 391/391 [00:09<00:00, 41.75it/s]\n"
          ]
        },
        {
          "output_type": "stream",
          "name": "stdout",
          "text": [
            "15 average loss: 1.564882\n",
            "15 average accuracy: 44.48%\n"
          ]
        },
        {
          "output_type": "stream",
          "name": "stderr",
          "text": [
            "100%|██████████| 391/391 [00:10<00:00, 37.57it/s]\n"
          ]
        },
        {
          "output_type": "stream",
          "name": "stdout",
          "text": [
            "16 average loss: 1.551926\n",
            "16 average accuracy: 44.94%\n"
          ]
        },
        {
          "output_type": "stream",
          "name": "stderr",
          "text": [
            "100%|██████████| 391/391 [00:07<00:00, 52.13it/s]\n"
          ]
        },
        {
          "output_type": "stream",
          "name": "stdout",
          "text": [
            "17 average loss: 1.536880\n",
            "17 average accuracy: 45.51%\n"
          ]
        },
        {
          "output_type": "stream",
          "name": "stderr",
          "text": [
            "100%|██████████| 391/391 [00:09<00:00, 43.10it/s]\n"
          ]
        },
        {
          "output_type": "stream",
          "name": "stdout",
          "text": [
            "18 average loss: 1.525025\n",
            "18 average accuracy: 46.09%\n"
          ]
        },
        {
          "output_type": "stream",
          "name": "stderr",
          "text": [
            "100%|██████████| 391/391 [00:08<00:00, 47.19it/s]\n"
          ]
        },
        {
          "output_type": "stream",
          "name": "stdout",
          "text": [
            "19 average loss: 1.511274\n",
            "19 average accuracy: 46.68%\n"
          ]
        },
        {
          "output_type": "stream",
          "name": "stderr",
          "text": [
            "100%|██████████| 391/391 [00:08<00:00, 45.94it/s]"
          ]
        },
        {
          "output_type": "stream",
          "name": "stdout",
          "text": [
            "20 average loss: 1.500069\n",
            "20 average accuracy: 47.06%\n"
          ]
        },
        {
          "output_type": "stream",
          "name": "stderr",
          "text": [
            "\n"
          ]
        }
      ],
      "source": [
        "# model training 예시 코드\n",
        "from tqdm import tqdm\n",
        "for epoch in range(20):\n",
        "  total_loss = 0.0\n",
        "  total_right = 0\n",
        "  for i, (image, label) in enumerate(tqdm(train_loader)):\n",
        "    image = image.to(device)\n",
        "    label = label.to(device)\n",
        "\n",
        "    # 모델 label 분류 예측\n",
        "    output = model(image)\n",
        "    output = output.max(1)[0]\n",
        "\n",
        "    # loss 계산\n",
        "    loss = criterion(output, label.long())\n",
        "    total_loss += loss\n",
        "\n",
        "    # 정답을 맞춘 개수 계산\n",
        "    right = (output.max(1)[1] == label).sum()\n",
        "    total_right += right\n",
        "\n",
        "    # Back-Propagation\n",
        "    optimizer.zero_grad()\n",
        "    loss.backward()\n",
        "    optimizer.step()\n",
        "\n",
        "    if i==len(train_loader)-1:\n",
        "      print(f'{epoch+1} average loss: {total_loss/len(train_loader):.6f}')\n",
        "      print(f'{epoch+1} average accuracy: {total_right/len(train_loader.dataset)*100:.2f}%')"
      ]
    },
    {
      "cell_type": "code",
      "execution_count": null,
      "metadata": {
        "colab": {
          "base_uri": "https://localhost:8080/"
        },
        "id": "2PqWODPLWVJW",
        "outputId": "0f4e4bb5-540b-4e7c-b95d-36657e82113f"
      },
      "outputs": [
        {
          "output_type": "stream",
          "name": "stderr",
          "text": [
            "100%|██████████| 79/79 [00:01<00:00, 56.07it/s]"
          ]
        },
        {
          "output_type": "stream",
          "name": "stdout",
          "text": [
            "TEST average accuracy: 40.91%\n"
          ]
        },
        {
          "output_type": "stream",
          "name": "stderr",
          "text": [
            "\n"
          ]
        }
      ],
      "source": [
        "# test 예시 코드\n",
        "total_right = 0\n",
        "for i, (image, label) in enumerate(tqdm(test_loader)):\n",
        "  image = image.to(device)\n",
        "  label = label.to(device)\n",
        "\n",
        "  # 모델 label 분류 예측\n",
        "  output = model(image)\n",
        "  output = output.max(1)[0]\n",
        "\n",
        "  # 정답을 맞춘 개수 계산\n",
        "  right = (output.max(1)[1] == label).sum()\n",
        "  total_right += right\n",
        "\n",
        "  if i==len(test_loader)-1:\n",
        "    print(f'TEST average accuracy: {total_right/len(test_loader.dataset)*100:.2f}%')"
      ]
    },
    {
      "cell_type": "markdown",
      "metadata": {
        "id": "0J4PjZWyDQtv"
      },
      "source": [
        "## ★ 문제4\n",
        "### 아래 조건에 맞게 코드를 작성하고 test 정확도 40% 이상 달성을 목표로 모델을 구현하시오.\n",
        "\n",
        "### 조건\n",
        "* model은 반드시 문제3에서 생성한 CustomMLP를 사용하도록 한다.\n",
        "* num_layers는 10이 넘지 않아야 한다.\n",
        "* out_feat_list에는 1024를 넘는 수가 없어야 한다.\n",
        "* activation function은 Sigmoid, ReLU, tanh 외에 소개되지 않은 것을 사용해도 상관 없다. 소개되지 않은 activation function을 사용할 경우 select_act 함수를 적절히 수정하도록 한다.\n",
        "* 아래 코드에서 수정해도 되는 것: CustomMLP의 모든 파라미터(단 위 조건에 맞아야 함), SEED, LEARNING_RATE, optimizer\n",
        "* 아래 코드에서 수정하면 안 되는 것: criterion, TRAINING PHASE, TEST PHASE\n",
        "* 성능평가: 테스트 정확도 40% 이상이면 만점, 40% 미만은 1% 구간 별로 1점씩 감점\n",
        "(예: 39.5% -> 1점 감점 38.7% -> 2점 감점)"
      ]
    },
    {
      "cell_type": "code",
      "execution_count": null,
      "metadata": {
        "id": "2rE9cdrwDQR6",
        "colab": {
          "base_uri": "https://localhost:8080/"
        },
        "outputId": "2685d20c-54f6-4734-92bb-521c093a4478"
      },
      "outputs": [
        {
          "output_type": "stream",
          "name": "stderr",
          "text": [
            "100%|██████████| 391/391 [00:07<00:00, 49.28it/s]\n"
          ]
        },
        {
          "output_type": "stream",
          "name": "stdout",
          "text": [
            "1 average loss: 3.304496\n",
            "1 average accuracy: 9.80%\n"
          ]
        },
        {
          "output_type": "stream",
          "name": "stderr",
          "text": [
            "100%|██████████| 391/391 [00:09<00:00, 42.36it/s]\n"
          ]
        },
        {
          "output_type": "stream",
          "name": "stdout",
          "text": [
            "2 average loss: 3.263412\n",
            "2 average accuracy: 9.85%\n"
          ]
        },
        {
          "output_type": "stream",
          "name": "stderr",
          "text": [
            "100%|██████████| 391/391 [00:09<00:00, 43.24it/s]\n"
          ]
        },
        {
          "output_type": "stream",
          "name": "stdout",
          "text": [
            "3 average loss: 3.048917\n",
            "3 average accuracy: 13.55%\n"
          ]
        },
        {
          "output_type": "stream",
          "name": "stderr",
          "text": [
            "100%|██████████| 391/391 [00:08<00:00, 47.40it/s]\n"
          ]
        },
        {
          "output_type": "stream",
          "name": "stdout",
          "text": [
            "4 average loss: 2.581793\n",
            "4 average accuracy: 19.71%\n"
          ]
        },
        {
          "output_type": "stream",
          "name": "stderr",
          "text": [
            "100%|██████████| 391/391 [00:09<00:00, 42.11it/s]\n"
          ]
        },
        {
          "output_type": "stream",
          "name": "stdout",
          "text": [
            "5 average loss: 2.383840\n",
            "5 average accuracy: 24.14%\n"
          ]
        },
        {
          "output_type": "stream",
          "name": "stderr",
          "text": [
            "100%|██████████| 391/391 [00:09<00:00, 42.07it/s]\n"
          ]
        },
        {
          "output_type": "stream",
          "name": "stdout",
          "text": [
            "6 average loss: 2.058211\n",
            "6 average accuracy: 26.33%\n"
          ]
        },
        {
          "output_type": "stream",
          "name": "stderr",
          "text": [
            "100%|██████████| 391/391 [00:08<00:00, 44.59it/s]\n"
          ]
        },
        {
          "output_type": "stream",
          "name": "stdout",
          "text": [
            "7 average loss: 1.912262\n",
            "7 average accuracy: 30.05%\n"
          ]
        },
        {
          "output_type": "stream",
          "name": "stderr",
          "text": [
            "100%|██████████| 391/391 [00:09<00:00, 41.54it/s]\n"
          ]
        },
        {
          "output_type": "stream",
          "name": "stdout",
          "text": [
            "8 average loss: 1.865935\n",
            "8 average accuracy: 32.60%\n"
          ]
        },
        {
          "output_type": "stream",
          "name": "stderr",
          "text": [
            "100%|██████████| 391/391 [00:08<00:00, 48.60it/s]\n"
          ]
        },
        {
          "output_type": "stream",
          "name": "stdout",
          "text": [
            "9 average loss: 1.808782\n",
            "9 average accuracy: 35.20%\n"
          ]
        },
        {
          "output_type": "stream",
          "name": "stderr",
          "text": [
            "100%|██████████| 391/391 [00:10<00:00, 37.84it/s]\n"
          ]
        },
        {
          "output_type": "stream",
          "name": "stdout",
          "text": [
            "10 average loss: 1.767988\n",
            "10 average accuracy: 36.71%\n"
          ]
        },
        {
          "output_type": "stream",
          "name": "stderr",
          "text": [
            "100%|██████████| 391/391 [00:09<00:00, 41.75it/s]\n"
          ]
        },
        {
          "output_type": "stream",
          "name": "stdout",
          "text": [
            "11 average loss: 1.731451\n",
            "11 average accuracy: 38.00%\n"
          ]
        },
        {
          "output_type": "stream",
          "name": "stderr",
          "text": [
            "100%|██████████| 391/391 [00:07<00:00, 48.90it/s]\n"
          ]
        },
        {
          "output_type": "stream",
          "name": "stdout",
          "text": [
            "12 average loss: 1.702829\n",
            "12 average accuracy: 39.34%\n"
          ]
        },
        {
          "output_type": "stream",
          "name": "stderr",
          "text": [
            "100%|██████████| 391/391 [00:09<00:00, 42.05it/s]\n"
          ]
        },
        {
          "output_type": "stream",
          "name": "stdout",
          "text": [
            "13 average loss: 1.676889\n",
            "13 average accuracy: 40.35%\n"
          ]
        },
        {
          "output_type": "stream",
          "name": "stderr",
          "text": [
            "100%|██████████| 391/391 [00:08<00:00, 45.28it/s]\n"
          ]
        },
        {
          "output_type": "stream",
          "name": "stdout",
          "text": [
            "14 average loss: 1.654625\n",
            "14 average accuracy: 41.22%\n"
          ]
        },
        {
          "output_type": "stream",
          "name": "stderr",
          "text": [
            "100%|██████████| 391/391 [00:08<00:00, 44.43it/s]\n"
          ]
        },
        {
          "output_type": "stream",
          "name": "stdout",
          "text": [
            "15 average loss: 1.625819\n",
            "15 average accuracy: 42.45%\n"
          ]
        },
        {
          "output_type": "stream",
          "name": "stderr",
          "text": [
            "100%|██████████| 391/391 [00:09<00:00, 41.81it/s]\n"
          ]
        },
        {
          "output_type": "stream",
          "name": "stdout",
          "text": [
            "16 average loss: 1.609416\n",
            "16 average accuracy: 43.09%\n"
          ]
        },
        {
          "output_type": "stream",
          "name": "stderr",
          "text": [
            "100%|██████████| 391/391 [00:07<00:00, 49.01it/s]\n"
          ]
        },
        {
          "output_type": "stream",
          "name": "stdout",
          "text": [
            "17 average loss: 1.574907\n",
            "17 average accuracy: 44.33%\n"
          ]
        },
        {
          "output_type": "stream",
          "name": "stderr",
          "text": [
            "100%|██████████| 391/391 [00:09<00:00, 41.90it/s]\n"
          ]
        },
        {
          "output_type": "stream",
          "name": "stdout",
          "text": [
            "18 average loss: 1.567437\n",
            "18 average accuracy: 44.84%\n"
          ]
        },
        {
          "output_type": "stream",
          "name": "stderr",
          "text": [
            "100%|██████████| 391/391 [00:08<00:00, 44.90it/s]\n"
          ]
        },
        {
          "output_type": "stream",
          "name": "stdout",
          "text": [
            "19 average loss: 1.536430\n",
            "19 average accuracy: 45.84%\n"
          ]
        },
        {
          "output_type": "stream",
          "name": "stderr",
          "text": [
            "100%|██████████| 391/391 [00:08<00:00, 46.47it/s]\n"
          ]
        },
        {
          "output_type": "stream",
          "name": "stdout",
          "text": [
            "20 average loss: 1.531106\n",
            "20 average accuracy: 46.14%\n"
          ]
        },
        {
          "output_type": "stream",
          "name": "stderr",
          "text": [
            "100%|██████████| 79/79 [00:01<00:00, 54.84it/s]"
          ]
        },
        {
          "output_type": "stream",
          "name": "stdout",
          "text": [
            "\n",
            "\n",
            "TEST average accuracy: 40.40%\n"
          ]
        },
        {
          "output_type": "stream",
          "name": "stderr",
          "text": [
            "\n"
          ]
        }
      ],
      "source": [
        "SEED = 123  # seed for initialization\n",
        "torch.random.manual_seed(SEED)\n",
        "model = CustomMLP(num_layers=10,\n",
        "                  out_feat_list=[512, 450, 400, 350, 300, 250, 200, 150, 100, 50],\n",
        "                  act='relu').to(device)  #layer sizes and activation function\n",
        "LEARNING_RATE = 0.05  # Adjusted learning rate\n",
        "optimizer = torch.optim.SGD(model.parameters(), lr=LEARNING_RATE, momentum=0.9)  # Using SGD with momentum\n",
        "\n",
        "criterion = nn.CrossEntropyLoss() # NEVER CHANGE!!\n",
        "\n",
        "#################################### TRAINING PHASE // NEVER EDIT!! ####################################\n",
        "from tqdm import tqdm\n",
        "for epoch in range(20):\n",
        "  total_loss = 0.0\n",
        "  total_right = 0\n",
        "  for i, (image, label) in enumerate(tqdm(train_loader)): # 각 에포크는 train_loader에서 미니배치를 가져와서 학습\n",
        "    image = image.to(device)\n",
        "    label = label.to(device)\n",
        "\n",
        "    # 모델 label 분류 예측\n",
        "    output = model(image)\n",
        "    output = output.max(1)[0]\n",
        "\n",
        "    # loss 계산\n",
        "    loss = criterion(output, label.long())\n",
        "    total_loss += loss\n",
        "\n",
        "    # 정답을 맞춘 개수 계산\n",
        "    right = (output.max(1)[1] == label).sum()\n",
        "    total_right += right\n",
        "\n",
        "    # Back-Propagation\n",
        "    optimizer.zero_grad()\n",
        "    loss.backward()\n",
        "    optimizer.step()\n",
        "\n",
        "    if i==len(train_loader)-1:\n",
        "      print(f'{epoch+1} average loss: {total_loss/len(train_loader):.6f}')\n",
        "      print(f'{epoch+1} average accuracy: {total_right/len(train_loader.dataset)*100:.2f}%')\n",
        "#######################################################################################################\n",
        "\n",
        "###################################### TEST PHASE // NEVER EDIT!! #####################################\n",
        "total_right = 0\n",
        "for i, (image, label) in enumerate(tqdm(test_loader)):\n",
        "  image = image.to(device)\n",
        "  label = label.to(device)\n",
        "\n",
        "  # 모델 label 분류 예측\n",
        "  output = model(image)\n",
        "  output = output.max(1)[0]\n",
        "\n",
        "  # 정답을 맞춘 개수 계산\n",
        "  right = (output.max(1)[1] == label).sum()\n",
        "  total_right += right\n",
        "\n",
        "print()\n",
        "print()\n",
        "print(f'TEST average accuracy: {total_right/len(test_loader.dataset)*100:.2f}%')\n",
        "#######################################################################################################\n"
      ]
    },
    {
      "cell_type": "code",
      "source": [],
      "metadata": {
        "id": "5dldH3S_vEUZ"
      },
      "execution_count": null,
      "outputs": []
    }
  ],
  "metadata": {
    "accelerator": "GPU",
    "colab": {
      "provenance": [],
      "history_visible": true
    },
    "gpuClass": "standard",
    "kernelspec": {
      "display_name": "Python 3",
      "name": "python3"
    },
    "language_info": {
      "codemirror_mode": {
        "name": "ipython",
        "version": 3
      },
      "file_extension": ".py",
      "mimetype": "text/x-python",
      "name": "python",
      "nbconvert_exporter": "python",
      "pygments_lexer": "ipython3",
      "version": "3.10.9"
    }
  },
  "nbformat": 4,
  "nbformat_minor": 0
}